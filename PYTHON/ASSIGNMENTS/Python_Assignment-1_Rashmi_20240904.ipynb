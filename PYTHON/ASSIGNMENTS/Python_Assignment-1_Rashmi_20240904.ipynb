{
 "cells": [
  {
   "cell_type": "markdown",
   "id": "5de8f957-9961-4197-92d7-418f715dd7f8",
   "metadata": {},
   "source": [
    "Python Assignment: Variables, Operators, and Type Casting.\n",
    "  -  1.Understanding Variables\n",
    "a. Define a variable in Python. Provide an example of how to create a variable that\n",
    "stores your name.\n",
    "b. What is the difference between a variable and a constant? Can we have constants in\n",
    "Python?\n",
    "\n",
    "   - 2. Working with Different Data Types\n",
    "a. Create variables of the following types in Python:\n",
    "1. Integer\n",
    "2. Float\n",
    "3. String\n",
    "4. Boolean\n",
    "b. Write a Python script to display the type of each variable you created.\n",
    "\n",
    "   - 3. Arithmetic Operators\n",
    "a. Explain the following arithmetic operators with examples:\n",
    "1. Addition (`+`)\n",
    "2. Subtraction (`-`)\n",
    "3. Multiplication (``)\n",
    "4. Division (`/`)\n",
    "5. Floor Division (`//`)\n",
    "6. Modulus (`%`)\n",
    "7. Exponentiation (``)\n",
    "b. Write a Python script to calculate the area of a rectangle using variables `length`\n",
    "and `width` with values 5 and 10, respectively. Use the multiplication operator.\n",
    "\n",
    "   - 4. Comparison and Logical Operators\n",
    "a. Explain the following comparison operators with examples:\n",
    "1. Equal to (`==`)\n",
    "2. Not equal to (`!=`)\n",
    "3. Greater than (`>`)\n",
    "4. Less than (`<`)\n",
    "5. Greater than or equal to (`>=`)\n",
    "6. Less than or equal to (`<=`)\n",
    "b. Using logical operators (`and`, `or`, `not`), write a Python script that checks if a\n",
    "number is positive and even.\n",
    "\n",
    "   - 5. Type Casting in Python\n",
    "a. What is type casting? Explain the difference between implicit and explicit type\n",
    "casting with examples.\n",
    "b. Write a Python script that:\n",
    "1. Converts a float to an integer.\n",
    "2. Converts an integer to a string.\n",
    "3. Converts a string to a float.\n",
    "\n",
    "   - 6. Practical Exercise: Mini Calculator\n",
    "Write a Python script that asks the user to input two numbers and then:\n",
    "1. Adds the two numbers and prints the result.\n",
    "2. Subtracts the second number from the first and prints the result.\n",
    "3. Multiplies the two numbers and prints the result.\n",
    "4. Divides the first number by the second and prints the result (handle division by zero).\n",
    "5. Converts the sum of the numbers to a string and prints the type of the result'''\n",
    "\n"
   ]
  },
  {
   "cell_type": "markdown",
   "id": "e2433653-2a3d-492f-95de-e10803272222",
   "metadata": {},
   "source": [
    "    1.Understanding Variables.\n",
    "   - . A variable is used to store data or values assigned"
   ]
  },
  {
   "cell_type": "code",
   "execution_count": 39,
   "id": "8b9d0e11-d8d6-44b8-a396-a576f2dbe156",
   "metadata": {},
   "outputs": [
    {
     "name": "stdout",
     "output_type": "stream",
     "text": [
      "rashmi\n"
     ]
    }
   ],
   "source": [
    "#Example to create a variable that stores your name.\n",
    "Name=\"rashmi\"\n",
    "print(Name)\n"
   ]
  },
  {
   "cell_type": "markdown",
   "id": "d5868ba4-4292-4df4-aeef-458f9eea49d5",
   "metadata": {},
   "source": [
    "1b. What is the difference between a variable and a constant? Can we have constants in Python?\n",
    "- Variables and constants are both used to store data.\n",
    "- Variables are mutable(can be changed).\n",
    "- Constants are the fixed values which are not meant to be changed. Yes, we can have constants in python certain conventions and practices are followed to define constants in Python."
   ]
  },
  {
   "cell_type": "markdown",
   "id": "238bbaec-8bd9-4185-a16e-5c30889138cc",
   "metadata": {},
   "source": [
    "2. Working with Different Data Types\n",
    "   - a. Create variables of the following types in Python:"
   ]
  },
  {
   "cell_type": "code",
   "execution_count": 5,
   "id": "cf10dd04-aed0-47f7-96b9-4ba11f5460a1",
   "metadata": {},
   "outputs": [
    {
     "name": "stdout",
     "output_type": "stream",
     "text": [
      "<class 'int'>\n"
     ]
    }
   ],
   "source": [
    "R_integer = 42 \n",
    "print(type(R_integer))"
   ]
  },
  {
   "cell_type": "code",
   "execution_count": 7,
   "id": "b0935210-602c-47d2-a8cf-4bebdbf5fd27",
   "metadata": {},
   "outputs": [
    {
     "name": "stdout",
     "output_type": "stream",
     "text": [
      "<class 'float'>\n"
     ]
    }
   ],
   "source": [
    "R_float = 3.12\n",
    "print(type(R_float))"
   ]
  },
  {
   "cell_type": "code",
   "execution_count": 9,
   "id": "b856d177-8258-4fc6-8277-29ab0fdfed86",
   "metadata": {},
   "outputs": [
    {
     "name": "stdout",
     "output_type": "stream",
     "text": [
      "<class 'str'>\n"
     ]
    }
   ],
   "source": [
    "R_string = 'Rashmi'\n",
    "print(type(R_string))"
   ]
  },
  {
   "cell_type": "code",
   "execution_count": 11,
   "id": "5cfac42e-a63a-4982-af00-5d000df74b99",
   "metadata": {},
   "outputs": [
    {
     "name": "stdout",
     "output_type": "stream",
     "text": [
      "<class 'bool'>\n"
     ]
    }
   ],
   "source": [
    "R_bool = True\n",
    "print(type(R_bool))"
   ]
  },
  {
   "cell_type": "markdown",
   "id": "f7805916-2817-4db3-bc99-4963fdd32523",
   "metadata": {},
   "source": [
    "3. Arithmetic Operators\n",
    "   - a. Explain the following arithmetic operators with examples:"
   ]
  },
  {
   "cell_type": "code",
   "execution_count": 19,
   "id": "5fe50235-7020-4e51-a06b-05046fd68c18",
   "metadata": {},
   "outputs": [
    {
     "name": "stdout",
     "output_type": "stream",
     "text": [
      "sum: 15\n"
     ]
    }
   ],
   "source": [
    "#1. Addition (`+`) Adds two numbers\n",
    "num1=5\n",
    "num2=10\n",
    "print(\"sum:\",num1+num2)\n"
   ]
  },
  {
   "cell_type": "code",
   "execution_count": 21,
   "id": "ef1fb279-af77-46e9-b907-812d93b99a6c",
   "metadata": {},
   "outputs": [
    {
     "name": "stdout",
     "output_type": "stream",
     "text": [
      "sum: -5\n"
     ]
    }
   ],
   "source": [
    "#2. Subtraction (`-`) Difference of two numbers\n",
    "print(\"sum:\",num1-num2)"
   ]
  },
  {
   "cell_type": "code",
   "execution_count": 23,
   "id": "b372469c-a710-45e4-93a0-636d3a1736db",
   "metadata": {},
   "outputs": [
    {
     "name": "stdout",
     "output_type": "stream",
     "text": [
      "sum: 50\n"
     ]
    }
   ],
   "source": [
    "#3. Multiplication (``) Multiplies two numbers\n",
    "print(\"sum:\",num1*num2)"
   ]
  },
  {
   "cell_type": "code",
   "execution_count": 25,
   "id": "01aa8303-4d85-4ce2-a63b-e8edf7d90866",
   "metadata": {},
   "outputs": [
    {
     "name": "stdout",
     "output_type": "stream",
     "text": [
      "sum: 0.5\n"
     ]
    }
   ],
   "source": [
    "#4. Division (`/`) divides the first number by the second\n",
    "print(\"sum:\",num1/num2)"
   ]
  },
  {
   "cell_type": "code",
   "execution_count": 27,
   "id": "80c93e7d-5ae1-4ede-b7c5-6cd9fc744e6f",
   "metadata": {},
   "outputs": [
    {
     "name": "stdout",
     "output_type": "stream",
     "text": [
      "sum: 0\n"
     ]
    }
   ],
   "source": [
    "#5. Floor Division (`//`) Divides the first number by the second and returns the largest integer less than or equal to the result.\n",
    "print(\"sum:\",num1//num2)"
   ]
  },
  {
   "cell_type": "code",
   "execution_count": 29,
   "id": "61c6fac0-205f-4cab-b143-ef3f714f1b44",
   "metadata": {},
   "outputs": [
    {
     "name": "stdout",
     "output_type": "stream",
     "text": [
      "sum: 5\n"
     ]
    }
   ],
   "source": [
    "#6. Modulus (`%`) Returns the remainder when the first number is divided by the second.\n",
    "print(\"sum:\",num1%num2)"
   ]
  },
  {
   "cell_type": "code",
   "execution_count": 33,
   "id": "0b729395-2950-4c18-b451-4c86f73798d9",
   "metadata": {},
   "outputs": [
    {
     "name": "stdout",
     "output_type": "stream",
     "text": [
      "sum: 9765625\n"
     ]
    }
   ],
   "source": [
    "#7. Exponentiation (``) Raises the first number to the power of the second.\n",
    "print(\"sum:\",num1**num2)"
   ]
  },
  {
   "cell_type": "markdown",
   "id": "d960dfa7-78a1-4742-ac1a-21ac61bf0b0c",
   "metadata": {},
   "source": [
    "3b. Write a Python script to calculate the area of a rectangle using variables `length`\n",
    "and `width` with values 5 and 10, respectively. Use the multiplication operator."
   ]
  },
  {
   "cell_type": "code",
   "execution_count": 37,
   "id": "e0180a70-9486-4dc2-8bdf-df043ed62ca9",
   "metadata": {},
   "outputs": [
    {
     "name": "stdout",
     "output_type": "stream",
     "text": [
      "50\n"
     ]
    }
   ],
   "source": [
    "length=5\n",
    "width=10\n",
    "area= length*width\n",
    "print(area)"
   ]
  },
  {
   "cell_type": "markdown",
   "id": "a1b8290d-ab76-452d-86f0-086e0c1b3874",
   "metadata": {},
   "source": [
    "4. Comparison and Logical Operators\n",
    "   - a. Explain the following comparison operators with examples:"
   ]
  },
  {
   "cell_type": "code",
   "execution_count": 47,
   "id": "91f9c29d-9855-4a3c-b0eb-aec67444e7ba",
   "metadata": {},
   "outputs": [
    {
     "name": "stdout",
     "output_type": "stream",
     "text": [
      "False\n"
     ]
    }
   ],
   "source": [
    "#1. Equal to (`==`) Checks if the values of two operands are equal.\n",
    "num1=5\n",
    "num2=10\n",
    "Result=(num1==num2)\n",
    "print(Result)"
   ]
  },
  {
   "cell_type": "code",
   "execution_count": 49,
   "id": "52fb47d6-f968-46e2-8c3c-756b6ce8d21d",
   "metadata": {},
   "outputs": [
    {
     "data": {
      "text/plain": [
       "True"
      ]
     },
     "execution_count": 49,
     "metadata": {},
     "output_type": "execute_result"
    }
   ],
   "source": [
    "#Not equal to (!=) Checks if the values of two operands are not equal.\n",
    "num1 != num2"
   ]
  },
  {
   "cell_type": "code",
   "execution_count": 51,
   "id": "fb971678-88e7-4348-8e18-05e819a080bc",
   "metadata": {},
   "outputs": [
    {
     "data": {
      "text/plain": [
       "False"
      ]
     },
     "execution_count": 51,
     "metadata": {},
     "output_type": "execute_result"
    }
   ],
   "source": [
    "#Greater than ('>') Checks if the value of the left operand is greater than the value of the right\n",
    "num1 > num2"
   ]
  },
  {
   "cell_type": "code",
   "execution_count": 53,
   "id": "a1c3eae8-b3cb-4b61-a8a3-77d119076008",
   "metadata": {},
   "outputs": [
    {
     "data": {
      "text/plain": [
       "True"
      ]
     },
     "execution_count": 53,
     "metadata": {},
     "output_type": "execute_result"
    }
   ],
   "source": [
    "#Less than ('<') Checks if the value of the left operand is less than the value of the right operand.\n",
    "num1 < num2"
   ]
  },
  {
   "cell_type": "code",
   "execution_count": 55,
   "id": "688718b4-1760-4fea-a3bc-d247be063caa",
   "metadata": {},
   "outputs": [
    {
     "data": {
      "text/plain": [
       "False"
      ]
     },
     "execution_count": 55,
     "metadata": {},
     "output_type": "execute_result"
    }
   ],
   "source": [
    "#Greater than or equal to ('>=') Checks if the value of the left operand is greater than or equal to the value of the right operand.\n",
    "num1 >= num2"
   ]
  },
  {
   "cell_type": "code",
   "execution_count": 69,
   "id": "0fb46e31-13cf-48f1-8981-17edaf6bcad3",
   "metadata": {},
   "outputs": [
    {
     "data": {
      "text/plain": [
       "False"
      ]
     },
     "execution_count": 69,
     "metadata": {},
     "output_type": "execute_result"
    }
   ],
   "source": [
    "#Less than or equal to ('<=') Checks if the value of the left operand is less than or equal to the value of the right operand.\n",
    "num1 <= num2"
   ]
  },
  {
   "cell_type": "markdown",
   "id": "ab581ab1-6d32-4870-82f9-de8ccf523792",
   "metadata": {},
   "source": [
    "4b. Using logical operators (`and`, `or`, `not`), write a Python script that checks if a number is positive and even."
   ]
  },
  {
   "cell_type": "code",
   "execution_count": 1,
   "id": "5d545cca-d60a-4338-b0a7-665533ff4cb9",
   "metadata": {},
   "outputs": [
    {
     "name": "stdin",
     "output_type": "stream",
     "text": [
      "enter a number: 44\n"
     ]
    },
    {
     "name": "stdout",
     "output_type": "stream",
     "text": [
      "44 is positive and even\n"
     ]
    }
   ],
   "source": [
    "num1=int(input(\"enter a number:\"))\n",
    "P_E=(num1>0) and (num1%2==0)\n",
    "if P_E:\n",
    "    print(num1,\"is positive and even\")\n",
    "else:\n",
    "    print(num1,\"is not positive and even\")"
   ]
  },
  {
   "cell_type": "markdown",
   "id": "825008ab-797c-45f7-b9f3-d7256fc800f1",
   "metadata": {},
   "source": [
    "5. Type Casting in Python.\n",
    "    a. What is type casting? Explain the difference between implicit and explicit type\n",
    "    - converting a variable from one data type to another.\n",
    "    - IMPLICIT: converted automatically by python.\n",
    "    - EXPLICIT: converted manually by programmers."
   ]
  },
  {
   "cell_type": "code",
   "execution_count": 7,
   "id": "8d16a93e-ec57-46d4-9440-1d8fcdca102f",
   "metadata": {},
   "outputs": [
    {
     "name": "stdout",
     "output_type": "stream",
     "text": [
      "<class 'int'>\n"
     ]
    }
   ],
   "source": [
    "num1=10.5\n",
    "conv= int(num1) # Converts a float to an integer.\n",
    "print(type(conv))"
   ]
  },
  {
   "cell_type": "code",
   "execution_count": 9,
   "id": "424d2f97-d27a-4c92-bbc3-4e420f6270e4",
   "metadata": {},
   "outputs": [
    {
     "name": "stdout",
     "output_type": "stream",
     "text": [
      "<class 'str'>\n"
     ]
    }
   ],
   "source": [
    "conv= str(num1) #Converts an integer to a string.\n",
    "print(type(conv))"
   ]
  },
  {
   "cell_type": "code",
   "execution_count": 11,
   "id": "2323790a-36b7-48c2-b197-096527a16468",
   "metadata": {},
   "outputs": [
    {
     "name": "stdout",
     "output_type": "stream",
     "text": [
      "<class 'float'>\n"
     ]
    }
   ],
   "source": [
    " num1=\"10.5\"\n",
    "conv= float(num1) # Converts a string to a float.\n",
    "print(type(conv))                "
   ]
  },
  {
   "cell_type": "markdown",
   "id": "deb4e4a2-3eda-4dac-af42-f1a7cb5b03c3",
   "metadata": {},
   "source": [
    "6. Practical Exercise: Mini Calculator"
   ]
  },
  {
   "cell_type": "code",
   "execution_count": 19,
   "id": "eff2efc2-c477-4d5b-9011-4363c6b131b7",
   "metadata": {},
   "outputs": [
    {
     "name": "stdin",
     "output_type": "stream",
     "text": [
      "Enter first number: 7\n",
      "Enter second number: 0\n",
      "Enter the preferred calculation: Division\n"
     ]
    },
    {
     "name": "stdout",
     "output_type": "stream",
     "text": [
      "Error!!,Division with 0 is not possible....RE-ENTER\n"
     ]
    }
   ],
   "source": [
    "num1= int(input(\"Enter first number:\"))\n",
    "num2= int(input(\"Enter second number:\"))\n",
    "\n",
    "Calculation= input(\"Enter the preferred calculation:\")\n",
    "string_cnv = str(Calculation) #. Converts the sum of the numbers to a string and prints the type of the result.\n",
    "\n",
    "if Calculation == (\"Addition\"):\n",
    " print(\"Result:\",num1+num2) #Adds the two numbers and prints the result.\n",
    " print(type(string_cnv))\n",
    "    \n",
    "elif Calculation == (\"Subtraction\"):\n",
    " print(\"Result:\",num2-num1) #Subtracts the second number from the first and prints the result\n",
    "elif Calculation == (\"Multiplication\"):\n",
    " print(\"Result:\",num1*num2) #Multiplies the two numbers and prints the result\n",
    "elif Calculation == (\"Division\"):\n",
    "    if num2 !=0:\n",
    "        print(\"Result:\",num1/num2) #Divides the first number by the second and prints the result (handled division by zero)\n",
    "    else:\n",
    "        print(\"Error!!,Division with 0 is not possible....RE-ENTER\")"
   ]
  },
  {
   "cell_type": "code",
   "execution_count": null,
   "id": "cdd666d4-a690-4580-a00a-a67be9c2d0c5",
   "metadata": {},
   "outputs": [],
   "source": []
  }
 ],
 "metadata": {
  "kernelspec": {
   "display_name": "Python 3 (ipykernel)",
   "language": "python",
   "name": "python3"
  },
  "language_info": {
   "codemirror_mode": {
    "name": "ipython",
    "version": 3
   },
   "file_extension": ".py",
   "mimetype": "text/x-python",
   "name": "python",
   "nbconvert_exporter": "python",
   "pygments_lexer": "ipython3",
   "version": "3.12.4"
  }
 },
 "nbformat": 4,
 "nbformat_minor": 5
}
